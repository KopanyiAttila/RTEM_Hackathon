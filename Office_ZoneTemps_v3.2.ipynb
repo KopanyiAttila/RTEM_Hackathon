{
 "cells": [
  {
   "cell_type": "markdown",
   "metadata": {},
   "source": [
    "- create a dataframe of building metadata with 'customerType' as a separate column\n",
    "- define a dataframe of office buildings -> get list of office building ID-s\n",
    "- query Zone temperature data for office buildings\n",
    "- resample the data to hourly resolution\n",
    "- plot for arbitrary time periods\n"
   ]
  },
  {
   "cell_type": "code",
   "execution_count": 1,
   "metadata": {},
   "outputs": [
    {
     "name": "stdout",
     "output_type": "stream",
     "text": [
      "Requirement already satisfied: onboard.client in c:\\users\\kopanyi.attila\\anaconda3\\lib\\site-packages (1.8.0)\n",
      "Requirement already satisfied: idna>=2.8 in c:\\users\\kopanyi.attila\\anaconda3\\lib\\site-packages (from onboard.client) (2.8)\n",
      "Requirement already satisfied: pydantic>=1.3 in c:\\users\\kopanyi.attila\\anaconda3\\lib\\site-packages (from onboard.client) (1.9.0)\n",
      "Requirement already satisfied: deprecation>=2.1.0 in c:\\users\\kopanyi.attila\\anaconda3\\lib\\site-packages (from onboard.client) (2.1.0)\n",
      "Requirement already satisfied: requests>=2.21.0 in c:\\users\\kopanyi.attila\\anaconda3\\lib\\site-packages (from onboard.client) (2.22.0)\n",
      "Requirement already satisfied: orjson==3.6.4 in c:\\users\\kopanyi.attila\\anaconda3\\lib\\site-packages (from onboard.client) (3.6.4)\n",
      "Requirement already satisfied: urllib3>=1.24.2 in c:\\users\\kopanyi.attila\\anaconda3\\lib\\site-packages (from onboard.client) (1.25.8)\n",
      "Requirement already satisfied: certifi>=2019.3.9 in c:\\users\\kopanyi.attila\\anaconda3\\lib\\site-packages (from onboard.client) (2019.11.28)\n",
      "Requirement already satisfied: chardet>=3.0.4 in c:\\users\\kopanyi.attila\\anaconda3\\lib\\site-packages (from onboard.client) (3.0.4)\n",
      "Requirement already satisfied: typing-extensions>=3.7.4.3 in c:\\users\\kopanyi.attila\\anaconda3\\lib\\site-packages (from pydantic>=1.3->onboard.client) (4.2.0)\n",
      "Requirement already satisfied: packaging in c:\\users\\kopanyi.attila\\anaconda3\\lib\\site-packages (from deprecation>=2.1.0->onboard.client) (20.1)\n",
      "Requirement already satisfied: six in c:\\users\\kopanyi.attila\\anaconda3\\lib\\site-packages (from packaging->deprecation>=2.1.0->onboard.client) (1.14.0)\n",
      "Requirement already satisfied: pyparsing>=2.0.2 in c:\\users\\kopanyi.attila\\anaconda3\\lib\\site-packages (from packaging->deprecation>=2.1.0->onboard.client) (2.4.6)\n"
     ]
    }
   ],
   "source": [
    "# install API wrapper first\n",
    "!pip install onboard.client --user\n",
    "import pandas as pd\n",
    "from onboard.client import RtemClient"
   ]
  },
  {
   "cell_type": "code",
   "execution_count": 2,
   "metadata": {},
   "outputs": [],
   "source": [
    "api_key = 'ob-p-Pi3gHy3uWTb3y6ZqL74dbcTCHIekYB6UwBOCDCHxlkkWSZhVh6TV-UY4lkwYWt6BhvI'\n",
    "client = RtemClient(api_key=api_key)"
   ]
  },
  {
   "cell_type": "markdown",
   "metadata": {},
   "source": [
    "Define a list of office buildings:"
   ]
  },
  {
   "cell_type": "code",
   "execution_count": 3,
   "metadata": {},
   "outputs": [],
   "source": [
    "bdgs=pd.json_normalize(client.get_all_buildings())"
   ]
  },
  {
   "cell_type": "code",
   "execution_count": 4,
   "metadata": {},
   "outputs": [
    {
     "name": "stdout",
     "output_type": "stream",
     "text": [
      "<class 'pandas.core.frame.DataFrame'>\n",
      "RangeIndex: 229 entries, 0 to 228\n",
      "Data columns (total 26 columns):\n",
      " #   Column             Non-Null Count  Dtype  \n",
      "---  ------             --------------  -----  \n",
      " 0   id                 229 non-null    int64  \n",
      " 1   org_id             229 non-null    int64  \n",
      " 2   name               229 non-null    object \n",
      " 3   address            0 non-null      object \n",
      " 4   sq_ft              201 non-null    float64\n",
      " 5   image_src          0 non-null      object \n",
      " 6   bms_manufacturer   0 non-null      object \n",
      " 7   bms_product_name   0 non-null      object \n",
      " 8   bms_version        0 non-null      object \n",
      " 9   timezone           229 non-null    object \n",
      " 10  status             229 non-null    object \n",
      " 11  equip_count        229 non-null    int64  \n",
      " 12  point_count        229 non-null    int64  \n",
      " 13  info.floors        224 non-null    object \n",
      " 14  info.m2fend        224 non-null    object \n",
      " 15  info.satend        223 non-null    object \n",
      " 16  info.sunend        223 non-null    object \n",
      " 17  info.geoCity       226 non-null    object \n",
      " 18  info.geoState      226 non-null    object \n",
      " 19  info.m2fstart      224 non-null    object \n",
      " 20  info.satstart      223 non-null    object \n",
      " 21  info.sunstart      223 non-null    object \n",
      " 22  info.yearBuilt     224 non-null    object \n",
      " 23  info.geoCountry    226 non-null    object \n",
      " 24  info.weatherRef    223 non-null    object \n",
      " 25  info.customerType  226 non-null    object \n",
      "dtypes: float64(1), int64(4), object(21)\n",
      "memory usage: 46.6+ KB\n"
     ]
    }
   ],
   "source": [
    "bdgs.info()"
   ]
  },
  {
   "cell_type": "code",
   "execution_count": 5,
   "metadata": {},
   "outputs": [
    {
     "data": {
      "text/plain": [
       "0            Multifamily\n",
       "1      Commercial Office\n",
       "2      Commercial Retail\n",
       "3                       \n",
       "4            Multifamily\n",
       "             ...        \n",
       "224    Commercial Retail\n",
       "225          Hospitality\n",
       "226    Commercial Office\n",
       "227    Commercial Office\n",
       "228    Commercial Office\n",
       "Name: info.customerType, Length: 229, dtype: object"
      ]
     },
     "execution_count": 5,
     "metadata": {},
     "output_type": "execute_result"
    }
   ],
   "source": [
    "bdgs['info.customerType']"
   ]
  },
  {
   "cell_type": "code",
   "execution_count": 6,
   "metadata": {},
   "outputs": [],
   "source": [
    "office_bdgs=bdgs.loc[bdgs['info.customerType'] == \"Commercial Office\"]"
   ]
  },
  {
   "cell_type": "code",
   "execution_count": 7,
   "metadata": {},
   "outputs": [
    {
     "name": "stdout",
     "output_type": "stream",
     "text": [
      "<class 'pandas.core.frame.DataFrame'>\n",
      "Int64Index: 46 entries, 1 to 228\n",
      "Data columns (total 26 columns):\n",
      " #   Column             Non-Null Count  Dtype  \n",
      "---  ------             --------------  -----  \n",
      " 0   id                 46 non-null     int64  \n",
      " 1   org_id             46 non-null     int64  \n",
      " 2   name               46 non-null     object \n",
      " 3   address            0 non-null      object \n",
      " 4   sq_ft              39 non-null     float64\n",
      " 5   image_src          0 non-null      object \n",
      " 6   bms_manufacturer   0 non-null      object \n",
      " 7   bms_product_name   0 non-null      object \n",
      " 8   bms_version        0 non-null      object \n",
      " 9   timezone           46 non-null     object \n",
      " 10  status             46 non-null     object \n",
      " 11  equip_count        46 non-null     int64  \n",
      " 12  point_count        46 non-null     int64  \n",
      " 13  info.floors        44 non-null     object \n",
      " 14  info.m2fend        44 non-null     object \n",
      " 15  info.satend        43 non-null     object \n",
      " 16  info.sunend        43 non-null     object \n",
      " 17  info.geoCity       46 non-null     object \n",
      " 18  info.geoState      46 non-null     object \n",
      " 19  info.m2fstart      44 non-null     object \n",
      " 20  info.satstart      43 non-null     object \n",
      " 21  info.sunstart      43 non-null     object \n",
      " 22  info.yearBuilt     44 non-null     object \n",
      " 23  info.geoCountry    46 non-null     object \n",
      " 24  info.weatherRef    43 non-null     object \n",
      " 25  info.customerType  46 non-null     object \n",
      "dtypes: float64(1), int64(4), object(21)\n",
      "memory usage: 9.7+ KB\n"
     ]
    }
   ],
   "source": [
    "office_bdgs.info()"
   ]
  },
  {
   "cell_type": "code",
   "execution_count": 8,
   "metadata": {},
   "outputs": [],
   "source": [
    "id_of_offices = office_bdgs['id'].tolist()"
   ]
  },
  {
   "cell_type": "code",
   "execution_count": 9,
   "metadata": {},
   "outputs": [
    {
     "data": {
      "text/plain": [
       "[140,\n",
       " 470,\n",
       " 439,\n",
       " 314,\n",
       " 107,\n",
       " 488,\n",
       " 417,\n",
       " 438,\n",
       " 485,\n",
       " 450,\n",
       " 452,\n",
       " 489,\n",
       " 98,\n",
       " 134,\n",
       " 217,\n",
       " 103,\n",
       " 142,\n",
       " 503,\n",
       " 454,\n",
       " 112,\n",
       " 440,\n",
       " 121,\n",
       " 120,\n",
       " 484,\n",
       " 129,\n",
       " 115,\n",
       " 486,\n",
       " 465,\n",
       " 487,\n",
       " 137,\n",
       " 141,\n",
       " 146,\n",
       " 174,\n",
       " 194,\n",
       " 185,\n",
       " 234,\n",
       " 246,\n",
       " 242,\n",
       " 275,\n",
       " 286,\n",
       " 392,\n",
       " 394,\n",
       " 393,\n",
       " 383,\n",
       " 398,\n",
       " 399]"
      ]
     },
     "execution_count": 9,
     "metadata": {},
     "output_type": "execute_result"
    }
   ],
   "source": [
    "id_of_offices"
   ]
  },
  {
   "cell_type": "code",
   "execution_count": 10,
   "metadata": {},
   "outputs": [],
   "source": [
    "from onboard.client.models import PointSelector\n",
    "query = PointSelector()"
   ]
  },
  {
   "cell_type": "code",
   "execution_count": 11,
   "metadata": {},
   "outputs": [],
   "source": [
    "query.point_types = ['Zone Temperature']\n",
    "query.equipment_types = ['fcu']\n",
    "query.buildings = id_of_offices"
   ]
  },
  {
   "cell_type": "code",
   "execution_count": 12,
   "metadata": {},
   "outputs": [
    {
     "data": {
      "text/plain": [
       "dict"
      ]
     },
     "execution_count": 12,
     "metadata": {},
     "output_type": "execute_result"
    }
   ],
   "source": [
    "selection = client.select_points(query)\n",
    "type(selection)"
   ]
  },
  {
   "cell_type": "code",
   "execution_count": 13,
   "metadata": {},
   "outputs": [
    {
     "data": {
      "text/plain": [
       "24"
      ]
     },
     "execution_count": 13,
     "metadata": {},
     "output_type": "execute_result"
    }
   ],
   "source": [
    "points = selection[\"points\"]\n",
    "len(points)"
   ]
  },
  {
   "cell_type": "code",
   "execution_count": 14,
   "metadata": {},
   "outputs": [],
   "source": [
    "sensor_metadata = client.get_points_by_ids(points)\n",
    "pd.DataFrame(sensor_metadata);"
   ]
  },
  {
   "cell_type": "code",
   "execution_count": 15,
   "metadata": {},
   "outputs": [],
   "source": [
    "from datetime import datetime, timezone"
   ]
  },
  {
   "cell_type": "code",
   "execution_count": 16,
   "metadata": {},
   "outputs": [
    {
     "data": {
      "text/plain": [
       "datetime.datetime(1970, 1, 1, 0, 0, tzinfo=datetime.timezone.utc)"
      ]
     },
     "execution_count": 16,
     "metadata": {},
     "output_type": "execute_result"
    }
   ],
   "source": [
    "# The starting point of Unix Time\n",
    "datetime.fromtimestamp(0, timezone.utc)"
   ]
  },
  {
   "cell_type": "code",
   "execution_count": 17,
   "metadata": {},
   "outputs": [
    {
     "data": {
      "text/plain": [
       "0    2020-03-31 04:00:00+00:00\n",
       "1    2020-03-31 04:00:00+00:00\n",
       "2    2020-03-31 04:00:00+00:00\n",
       "3    2020-03-31 04:00:00+00:00\n",
       "4    2020-03-31 04:00:00+00:00\n",
       "5    2020-03-31 04:00:00+00:00\n",
       "6    2020-03-31 04:00:00+00:00\n",
       "7    2020-03-31 04:00:00+00:00\n",
       "8    2020-03-31 04:00:00+00:00\n",
       "9    2020-03-31 04:00:00+00:00\n",
       "10   2020-03-31 04:00:00+00:00\n",
       "11   2020-03-31 04:00:00+00:00\n",
       "12   2020-03-31 04:00:00+00:00\n",
       "13   2020-03-31 04:00:00+00:00\n",
       "14   2020-03-31 04:00:00+00:00\n",
       "15   2020-03-31 04:00:00+00:00\n",
       "16   2020-03-31 04:00:00+00:00\n",
       "17   2020-03-31 04:00:00+00:00\n",
       "18   2020-03-31 04:00:00+00:00\n",
       "19   2020-03-31 04:00:00+00:00\n",
       "20   2020-03-31 04:00:00+00:00\n",
       "21   2020-03-31 04:00:00+00:00\n",
       "22   2020-03-31 04:00:00+00:00\n",
       "23   2021-07-08 00:15:00+00:00\n",
       "Name: last_updated, dtype: datetime64[ns, UTC]"
      ]
     },
     "execution_count": 17,
     "metadata": {},
     "output_type": "execute_result"
    }
   ],
   "source": [
    "sensor_metadata = pd.DataFrame(sensor_metadata)\n",
    "sensor_metadata.last_updated.apply(lambda x: datetime.fromtimestamp(x/1000, timezone.utc))"
   ]
  },
  {
   "cell_type": "code",
   "execution_count": 18,
   "metadata": {},
   "outputs": [
    {
     "data": {
      "text/plain": [
       "Timestamp('2018-10-07 12:45:00+0000', tz='UTC')"
      ]
     },
     "execution_count": 18,
     "metadata": {},
     "output_type": "execute_result"
    }
   ],
   "source": [
    "sensor_metadata.first_updated.apply(lambda x: datetime.fromtimestamp(x/1000, timezone.utc)).min()"
   ]
  },
  {
   "cell_type": "code",
   "execution_count": 19,
   "metadata": {},
   "outputs": [
    {
     "data": {
      "text/plain": [
       "Timestamp('2021-07-08 00:15:00+0000', tz='UTC')"
      ]
     },
     "execution_count": 19,
     "metadata": {},
     "output_type": "execute_result"
    }
   ],
   "source": [
    "sensor_metadata.last_updated.apply(lambda x: datetime.fromtimestamp(x/1000, timezone.utc)).max()"
   ]
  },
  {
   "cell_type": "code",
   "execution_count": 20,
   "metadata": {},
   "outputs": [],
   "source": [
    "import pytz\n",
    "from onboard.client.models import TimeseriesQuery, PointData\n",
    "from onboard.client.dataframes import points_df_from_streaming_timeseries"
   ]
  },
  {
   "cell_type": "code",
   "execution_count": 21,
   "metadata": {},
   "outputs": [
    {
     "name": "stdout",
     "output_type": "stream",
     "text": [
      "from 2019-10-01 00:00:00+00:00 to 2019-10-31 00:00:00+00:00\n"
     ]
    }
   ],
   "source": [
    "# Select your timezone\n",
    "tz = pytz.timezone('UTC')\n",
    "\n",
    "# Select your date and time (time is optional)\n",
    "start = datetime(2019,10,1,0,0,0).replace(tzinfo=tz)\n",
    "end = datetime(2019,10,31,0,0,0).replace(tzinfo=tz)\n",
    "\n",
    "print(f\"from {start} to {end}\")"
   ]
  },
  {
   "cell_type": "code",
   "execution_count": 22,
   "metadata": {},
   "outputs": [],
   "source": [
    "timeseries_query = TimeseriesQuery(point_ids = points, start = start, end = end)"
   ]
  },
  {
   "cell_type": "code",
   "execution_count": 23,
   "metadata": {},
   "outputs": [],
   "source": [
    "# Exceute query (will return and object)\n",
    "query_results = client.stream_point_timeseries(timeseries_query)\n",
    "\n",
    "# Convert to dataframe\n",
    "sensor_data = points_df_from_streaming_timeseries(query_results)"
   ]
  },
  {
   "cell_type": "code",
   "execution_count": 24,
   "metadata": {},
   "outputs": [
    {
     "data": {
      "text/html": [
       "<div>\n",
       "<style scoped>\n",
       "    .dataframe tbody tr th:only-of-type {\n",
       "        vertical-align: middle;\n",
       "    }\n",
       "\n",
       "    .dataframe tbody tr th {\n",
       "        vertical-align: top;\n",
       "    }\n",
       "\n",
       "    .dataframe thead th {\n",
       "        text-align: right;\n",
       "    }\n",
       "</style>\n",
       "<table border=\"1\" class=\"dataframe\">\n",
       "  <thead>\n",
       "    <tr style=\"text-align: right;\">\n",
       "      <th></th>\n",
       "      <th>timestamp</th>\n",
       "      <th>194302</th>\n",
       "      <th>194303</th>\n",
       "      <th>194304</th>\n",
       "      <th>194305</th>\n",
       "      <th>194306</th>\n",
       "      <th>194307</th>\n",
       "      <th>194308</th>\n",
       "      <th>194309</th>\n",
       "      <th>194310</th>\n",
       "      <th>194311</th>\n",
       "      <th>194312</th>\n",
       "      <th>194313</th>\n",
       "      <th>194314</th>\n",
       "      <th>194315</th>\n",
       "      <th>194316</th>\n",
       "      <th>194317</th>\n",
       "      <th>194318</th>\n",
       "      <th>194319</th>\n",
       "      <th>194320</th>\n",
       "      <th>194321</th>\n",
       "      <th>194322</th>\n",
       "      <th>267044</th>\n",
       "      <th>194300</th>\n",
       "      <th>194301</th>\n",
       "    </tr>\n",
       "  </thead>\n",
       "  <tbody>\n",
       "    <tr>\n",
       "      <th>0</th>\n",
       "      <td>2019-10-01T00:15:00Z</td>\n",
       "      <td>21.664815</td>\n",
       "      <td>20.720370</td>\n",
       "      <td>21.164815</td>\n",
       "      <td>22.442593</td>\n",
       "      <td>23.387037</td>\n",
       "      <td>22.775926</td>\n",
       "      <td>18.053704</td>\n",
       "      <td>20.331481</td>\n",
       "      <td>19.942593</td>\n",
       "      <td>21.831481</td>\n",
       "      <td>21.275926</td>\n",
       "      <td>21.442593</td>\n",
       "      <td>22.053704</td>\n",
       "      <td>20.220370</td>\n",
       "      <td>23.998148</td>\n",
       "      <td>20.942593</td>\n",
       "      <td>21.998148</td>\n",
       "      <td>20.164815</td>\n",
       "      <td>19.498148</td>\n",
       "      <td>20.442593</td>\n",
       "      <td>22.609259</td>\n",
       "      <td>NaN</td>\n",
       "      <td>22.998148</td>\n",
       "      <td>22.942593</td>\n",
       "    </tr>\n",
       "    <tr>\n",
       "      <th>1</th>\n",
       "      <td>2019-10-01T00:30:00Z</td>\n",
       "      <td>21.775926</td>\n",
       "      <td>20.720370</td>\n",
       "      <td>21.164815</td>\n",
       "      <td>22.498148</td>\n",
       "      <td>23.664815</td>\n",
       "      <td>23.553704</td>\n",
       "      <td>22.109259</td>\n",
       "      <td>20.442593</td>\n",
       "      <td>20.109259</td>\n",
       "      <td>21.720370</td>\n",
       "      <td>20.942593</td>\n",
       "      <td>20.609259</td>\n",
       "      <td>22.109259</td>\n",
       "      <td>21.498148</td>\n",
       "      <td>24.275926</td>\n",
       "      <td>20.942593</td>\n",
       "      <td>21.498148</td>\n",
       "      <td>20.164815</td>\n",
       "      <td>19.498148</td>\n",
       "      <td>19.275926</td>\n",
       "      <td>21.775926</td>\n",
       "      <td>NaN</td>\n",
       "      <td>22.998148</td>\n",
       "      <td>22.998148</td>\n",
       "    </tr>\n",
       "    <tr>\n",
       "      <th>2</th>\n",
       "      <td>2019-10-01T00:45:00Z</td>\n",
       "      <td>21.887037</td>\n",
       "      <td>20.609259</td>\n",
       "      <td>20.998148</td>\n",
       "      <td>22.553704</td>\n",
       "      <td>23.609259</td>\n",
       "      <td>22.720370</td>\n",
       "      <td>20.887037</td>\n",
       "      <td>20.442593</td>\n",
       "      <td>19.998148</td>\n",
       "      <td>21.664815</td>\n",
       "      <td>21.164815</td>\n",
       "      <td>20.887037</td>\n",
       "      <td>22.053704</td>\n",
       "      <td>21.553704</td>\n",
       "      <td>24.442593</td>\n",
       "      <td>20.720370</td>\n",
       "      <td>21.609259</td>\n",
       "      <td>19.998148</td>\n",
       "      <td>19.442593</td>\n",
       "      <td>19.442593</td>\n",
       "      <td>22.109259</td>\n",
       "      <td>NaN</td>\n",
       "      <td>22.831481</td>\n",
       "      <td>22.998148</td>\n",
       "    </tr>\n",
       "    <tr>\n",
       "      <th>3</th>\n",
       "      <td>2019-10-01T01:00:00Z</td>\n",
       "      <td>21.609259</td>\n",
       "      <td>20.664815</td>\n",
       "      <td>20.887037</td>\n",
       "      <td>22.553704</td>\n",
       "      <td>24.331481</td>\n",
       "      <td>22.887037</td>\n",
       "      <td>20.887037</td>\n",
       "      <td>20.553704</td>\n",
       "      <td>19.609259</td>\n",
       "      <td>21.609259</td>\n",
       "      <td>20.109259</td>\n",
       "      <td>20.831481</td>\n",
       "      <td>22.053704</td>\n",
       "      <td>18.942593</td>\n",
       "      <td>23.998148</td>\n",
       "      <td>20.775926</td>\n",
       "      <td>22.164815</td>\n",
       "      <td>19.942593</td>\n",
       "      <td>19.442593</td>\n",
       "      <td>19.442593</td>\n",
       "      <td>21.887037</td>\n",
       "      <td>NaN</td>\n",
       "      <td>22.998148</td>\n",
       "      <td>22.998148</td>\n",
       "    </tr>\n",
       "    <tr>\n",
       "      <th>4</th>\n",
       "      <td>2019-10-01T01:15:00Z</td>\n",
       "      <td>21.498148</td>\n",
       "      <td>20.775926</td>\n",
       "      <td>20.998148</td>\n",
       "      <td>22.609259</td>\n",
       "      <td>23.109259</td>\n",
       "      <td>22.887037</td>\n",
       "      <td>18.498148</td>\n",
       "      <td>20.553704</td>\n",
       "      <td>19.887037</td>\n",
       "      <td>21.442593</td>\n",
       "      <td>20.998148</td>\n",
       "      <td>21.442593</td>\n",
       "      <td>21.942593</td>\n",
       "      <td>20.275926</td>\n",
       "      <td>24.387037</td>\n",
       "      <td>20.553704</td>\n",
       "      <td>22.387037</td>\n",
       "      <td>19.998148</td>\n",
       "      <td>19.442593</td>\n",
       "      <td>19.109259</td>\n",
       "      <td>22.609259</td>\n",
       "      <td>NaN</td>\n",
       "      <td>23.720370</td>\n",
       "      <td>23.109259</td>\n",
       "    </tr>\n",
       "  </tbody>\n",
       "</table>\n",
       "</div>"
      ],
      "text/plain": [
       "              timestamp     194302     194303  ...  267044     194300     194301\n",
       "0  2019-10-01T00:15:00Z  21.664815  20.720370  ...     NaN  22.998148  22.942593\n",
       "1  2019-10-01T00:30:00Z  21.775926  20.720370  ...     NaN  22.998148  22.998148\n",
       "2  2019-10-01T00:45:00Z  21.887037  20.609259  ...     NaN  22.831481  22.998148\n",
       "3  2019-10-01T01:00:00Z  21.609259  20.664815  ...     NaN  22.998148  22.998148\n",
       "4  2019-10-01T01:15:00Z  21.498148  20.775926  ...     NaN  23.720370  23.109259\n",
       "\n",
       "[5 rows x 25 columns]"
      ]
     },
     "execution_count": 24,
     "metadata": {},
     "output_type": "execute_result"
    }
   ],
   "source": [
    "sensor_data.head()"
   ]
  },
  {
   "cell_type": "markdown",
   "metadata": {},
   "source": [
    "Try converting the time to a datetime object:"
   ]
  },
  {
   "cell_type": "code",
   "execution_count": 25,
   "metadata": {},
   "outputs": [],
   "source": [
    "sensor_data[\"timestamp\"] = pd.to_datetime(sensor_data['timestamp'], format='%Y-%m-%dT%H:%M:%S.%f')"
   ]
  },
  {
   "cell_type": "code",
   "execution_count": 26,
   "metadata": {},
   "outputs": [
    {
     "data": {
      "text/html": [
       "<div>\n",
       "<style scoped>\n",
       "    .dataframe tbody tr th:only-of-type {\n",
       "        vertical-align: middle;\n",
       "    }\n",
       "\n",
       "    .dataframe tbody tr th {\n",
       "        vertical-align: top;\n",
       "    }\n",
       "\n",
       "    .dataframe thead th {\n",
       "        text-align: right;\n",
       "    }\n",
       "</style>\n",
       "<table border=\"1\" class=\"dataframe\">\n",
       "  <thead>\n",
       "    <tr style=\"text-align: right;\">\n",
       "      <th></th>\n",
       "      <th>timestamp</th>\n",
       "      <th>194302</th>\n",
       "      <th>194303</th>\n",
       "      <th>194304</th>\n",
       "      <th>194305</th>\n",
       "      <th>194306</th>\n",
       "      <th>194307</th>\n",
       "      <th>194308</th>\n",
       "      <th>194309</th>\n",
       "      <th>194310</th>\n",
       "      <th>194311</th>\n",
       "      <th>194312</th>\n",
       "      <th>194313</th>\n",
       "      <th>194314</th>\n",
       "      <th>194315</th>\n",
       "      <th>194316</th>\n",
       "      <th>194317</th>\n",
       "      <th>194318</th>\n",
       "      <th>194319</th>\n",
       "      <th>194320</th>\n",
       "      <th>194321</th>\n",
       "      <th>194322</th>\n",
       "      <th>267044</th>\n",
       "      <th>194300</th>\n",
       "      <th>194301</th>\n",
       "    </tr>\n",
       "  </thead>\n",
       "  <tbody>\n",
       "    <tr>\n",
       "      <th>0</th>\n",
       "      <td>2019-10-01 00:15:00+00:00</td>\n",
       "      <td>21.664815</td>\n",
       "      <td>20.720370</td>\n",
       "      <td>21.164815</td>\n",
       "      <td>22.442593</td>\n",
       "      <td>23.387037</td>\n",
       "      <td>22.775926</td>\n",
       "      <td>18.053704</td>\n",
       "      <td>20.331481</td>\n",
       "      <td>19.942593</td>\n",
       "      <td>21.831481</td>\n",
       "      <td>21.275926</td>\n",
       "      <td>21.442593</td>\n",
       "      <td>22.053704</td>\n",
       "      <td>20.220370</td>\n",
       "      <td>23.998148</td>\n",
       "      <td>20.942593</td>\n",
       "      <td>21.998148</td>\n",
       "      <td>20.164815</td>\n",
       "      <td>19.498148</td>\n",
       "      <td>20.442593</td>\n",
       "      <td>22.609259</td>\n",
       "      <td>NaN</td>\n",
       "      <td>22.998148</td>\n",
       "      <td>22.942593</td>\n",
       "    </tr>\n",
       "    <tr>\n",
       "      <th>1</th>\n",
       "      <td>2019-10-01 00:30:00+00:00</td>\n",
       "      <td>21.775926</td>\n",
       "      <td>20.720370</td>\n",
       "      <td>21.164815</td>\n",
       "      <td>22.498148</td>\n",
       "      <td>23.664815</td>\n",
       "      <td>23.553704</td>\n",
       "      <td>22.109259</td>\n",
       "      <td>20.442593</td>\n",
       "      <td>20.109259</td>\n",
       "      <td>21.720370</td>\n",
       "      <td>20.942593</td>\n",
       "      <td>20.609259</td>\n",
       "      <td>22.109259</td>\n",
       "      <td>21.498148</td>\n",
       "      <td>24.275926</td>\n",
       "      <td>20.942593</td>\n",
       "      <td>21.498148</td>\n",
       "      <td>20.164815</td>\n",
       "      <td>19.498148</td>\n",
       "      <td>19.275926</td>\n",
       "      <td>21.775926</td>\n",
       "      <td>NaN</td>\n",
       "      <td>22.998148</td>\n",
       "      <td>22.998148</td>\n",
       "    </tr>\n",
       "    <tr>\n",
       "      <th>2</th>\n",
       "      <td>2019-10-01 00:45:00+00:00</td>\n",
       "      <td>21.887037</td>\n",
       "      <td>20.609259</td>\n",
       "      <td>20.998148</td>\n",
       "      <td>22.553704</td>\n",
       "      <td>23.609259</td>\n",
       "      <td>22.720370</td>\n",
       "      <td>20.887037</td>\n",
       "      <td>20.442593</td>\n",
       "      <td>19.998148</td>\n",
       "      <td>21.664815</td>\n",
       "      <td>21.164815</td>\n",
       "      <td>20.887037</td>\n",
       "      <td>22.053704</td>\n",
       "      <td>21.553704</td>\n",
       "      <td>24.442593</td>\n",
       "      <td>20.720370</td>\n",
       "      <td>21.609259</td>\n",
       "      <td>19.998148</td>\n",
       "      <td>19.442593</td>\n",
       "      <td>19.442593</td>\n",
       "      <td>22.109259</td>\n",
       "      <td>NaN</td>\n",
       "      <td>22.831481</td>\n",
       "      <td>22.998148</td>\n",
       "    </tr>\n",
       "    <tr>\n",
       "      <th>3</th>\n",
       "      <td>2019-10-01 01:00:00+00:00</td>\n",
       "      <td>21.609259</td>\n",
       "      <td>20.664815</td>\n",
       "      <td>20.887037</td>\n",
       "      <td>22.553704</td>\n",
       "      <td>24.331481</td>\n",
       "      <td>22.887037</td>\n",
       "      <td>20.887037</td>\n",
       "      <td>20.553704</td>\n",
       "      <td>19.609259</td>\n",
       "      <td>21.609259</td>\n",
       "      <td>20.109259</td>\n",
       "      <td>20.831481</td>\n",
       "      <td>22.053704</td>\n",
       "      <td>18.942593</td>\n",
       "      <td>23.998148</td>\n",
       "      <td>20.775926</td>\n",
       "      <td>22.164815</td>\n",
       "      <td>19.942593</td>\n",
       "      <td>19.442593</td>\n",
       "      <td>19.442593</td>\n",
       "      <td>21.887037</td>\n",
       "      <td>NaN</td>\n",
       "      <td>22.998148</td>\n",
       "      <td>22.998148</td>\n",
       "    </tr>\n",
       "    <tr>\n",
       "      <th>4</th>\n",
       "      <td>2019-10-01 01:15:00+00:00</td>\n",
       "      <td>21.498148</td>\n",
       "      <td>20.775926</td>\n",
       "      <td>20.998148</td>\n",
       "      <td>22.609259</td>\n",
       "      <td>23.109259</td>\n",
       "      <td>22.887037</td>\n",
       "      <td>18.498148</td>\n",
       "      <td>20.553704</td>\n",
       "      <td>19.887037</td>\n",
       "      <td>21.442593</td>\n",
       "      <td>20.998148</td>\n",
       "      <td>21.442593</td>\n",
       "      <td>21.942593</td>\n",
       "      <td>20.275926</td>\n",
       "      <td>24.387037</td>\n",
       "      <td>20.553704</td>\n",
       "      <td>22.387037</td>\n",
       "      <td>19.998148</td>\n",
       "      <td>19.442593</td>\n",
       "      <td>19.109259</td>\n",
       "      <td>22.609259</td>\n",
       "      <td>NaN</td>\n",
       "      <td>23.720370</td>\n",
       "      <td>23.109259</td>\n",
       "    </tr>\n",
       "  </tbody>\n",
       "</table>\n",
       "</div>"
      ],
      "text/plain": [
       "                  timestamp     194302     194303  ...  267044     194300     194301\n",
       "0 2019-10-01 00:15:00+00:00  21.664815  20.720370  ...     NaN  22.998148  22.942593\n",
       "1 2019-10-01 00:30:00+00:00  21.775926  20.720370  ...     NaN  22.998148  22.998148\n",
       "2 2019-10-01 00:45:00+00:00  21.887037  20.609259  ...     NaN  22.831481  22.998148\n",
       "3 2019-10-01 01:00:00+00:00  21.609259  20.664815  ...     NaN  22.998148  22.998148\n",
       "4 2019-10-01 01:15:00+00:00  21.498148  20.775926  ...     NaN  23.720370  23.109259\n",
       "\n",
       "[5 rows x 25 columns]"
      ]
     },
     "execution_count": 26,
     "metadata": {},
     "output_type": "execute_result"
    }
   ],
   "source": [
    "sensor_data.head()"
   ]
  },
  {
   "cell_type": "markdown",
   "metadata": {},
   "source": [
    "Resample the data to hourly frequency:"
   ]
  },
  {
   "cell_type": "code",
   "execution_count": 27,
   "metadata": {},
   "outputs": [],
   "source": [
    "sensor_data_hourly=sensor_data.resample('H', on=\"timestamp\").mean()"
   ]
  },
  {
   "cell_type": "code",
   "execution_count": 28,
   "metadata": {},
   "outputs": [
    {
     "data": {
      "text/html": [
       "<div>\n",
       "<style scoped>\n",
       "    .dataframe tbody tr th:only-of-type {\n",
       "        vertical-align: middle;\n",
       "    }\n",
       "\n",
       "    .dataframe tbody tr th {\n",
       "        vertical-align: top;\n",
       "    }\n",
       "\n",
       "    .dataframe thead th {\n",
       "        text-align: right;\n",
       "    }\n",
       "</style>\n",
       "<table border=\"1\" class=\"dataframe\">\n",
       "  <thead>\n",
       "    <tr style=\"text-align: right;\">\n",
       "      <th></th>\n",
       "      <th>194302</th>\n",
       "      <th>194303</th>\n",
       "      <th>194304</th>\n",
       "      <th>194305</th>\n",
       "      <th>194306</th>\n",
       "      <th>194307</th>\n",
       "      <th>194308</th>\n",
       "      <th>194309</th>\n",
       "      <th>194310</th>\n",
       "      <th>194311</th>\n",
       "      <th>194312</th>\n",
       "      <th>194313</th>\n",
       "      <th>194314</th>\n",
       "      <th>194315</th>\n",
       "      <th>194316</th>\n",
       "      <th>194317</th>\n",
       "      <th>194318</th>\n",
       "      <th>194319</th>\n",
       "      <th>194320</th>\n",
       "      <th>194321</th>\n",
       "      <th>194322</th>\n",
       "      <th>267044</th>\n",
       "      <th>194300</th>\n",
       "      <th>194301</th>\n",
       "    </tr>\n",
       "    <tr>\n",
       "      <th>timestamp</th>\n",
       "      <th></th>\n",
       "      <th></th>\n",
       "      <th></th>\n",
       "      <th></th>\n",
       "      <th></th>\n",
       "      <th></th>\n",
       "      <th></th>\n",
       "      <th></th>\n",
       "      <th></th>\n",
       "      <th></th>\n",
       "      <th></th>\n",
       "      <th></th>\n",
       "      <th></th>\n",
       "      <th></th>\n",
       "      <th></th>\n",
       "      <th></th>\n",
       "      <th></th>\n",
       "      <th></th>\n",
       "      <th></th>\n",
       "      <th></th>\n",
       "      <th></th>\n",
       "      <th></th>\n",
       "      <th></th>\n",
       "      <th></th>\n",
       "    </tr>\n",
       "  </thead>\n",
       "  <tbody>\n",
       "    <tr>\n",
       "      <th>2019-10-01 00:00:00+00:00</th>\n",
       "      <td>21.775926</td>\n",
       "      <td>20.683333</td>\n",
       "      <td>21.109259</td>\n",
       "      <td>22.498148</td>\n",
       "      <td>23.553704</td>\n",
       "      <td>23.016667</td>\n",
       "      <td>20.350000</td>\n",
       "      <td>20.405556</td>\n",
       "      <td>20.016667</td>\n",
       "      <td>21.738889</td>\n",
       "      <td>21.127778</td>\n",
       "      <td>20.979630</td>\n",
       "      <td>22.072222</td>\n",
       "      <td>21.090741</td>\n",
       "      <td>24.238889</td>\n",
       "      <td>20.868519</td>\n",
       "      <td>21.701852</td>\n",
       "      <td>20.109259</td>\n",
       "      <td>19.479630</td>\n",
       "      <td>19.720370</td>\n",
       "      <td>22.164815</td>\n",
       "      <td>NaN</td>\n",
       "      <td>22.942593</td>\n",
       "      <td>22.979630</td>\n",
       "    </tr>\n",
       "    <tr>\n",
       "      <th>2019-10-01 01:00:00+00:00</th>\n",
       "      <td>21.525926</td>\n",
       "      <td>20.692593</td>\n",
       "      <td>20.859259</td>\n",
       "      <td>22.595370</td>\n",
       "      <td>23.914815</td>\n",
       "      <td>23.095370</td>\n",
       "      <td>19.873148</td>\n",
       "      <td>20.553704</td>\n",
       "      <td>19.692593</td>\n",
       "      <td>21.400926</td>\n",
       "      <td>20.817593</td>\n",
       "      <td>21.039815</td>\n",
       "      <td>22.025926</td>\n",
       "      <td>19.637037</td>\n",
       "      <td>24.275926</td>\n",
       "      <td>20.262037</td>\n",
       "      <td>21.970370</td>\n",
       "      <td>19.887037</td>\n",
       "      <td>19.442593</td>\n",
       "      <td>19.442593</td>\n",
       "      <td>22.234259</td>\n",
       "      <td>NaN</td>\n",
       "      <td>23.637037</td>\n",
       "      <td>23.137037</td>\n",
       "    </tr>\n",
       "    <tr>\n",
       "      <th>2019-10-01 02:00:00+00:00</th>\n",
       "      <td>21.289815</td>\n",
       "      <td>20.470370</td>\n",
       "      <td>20.595370</td>\n",
       "      <td>22.553704</td>\n",
       "      <td>23.831481</td>\n",
       "      <td>23.289815</td>\n",
       "      <td>20.678704</td>\n",
       "      <td>20.428704</td>\n",
       "      <td>19.248148</td>\n",
       "      <td>21.164815</td>\n",
       "      <td>20.345370</td>\n",
       "      <td>20.762037</td>\n",
       "      <td>22.067593</td>\n",
       "      <td>19.775926</td>\n",
       "      <td>24.234259</td>\n",
       "      <td>20.789815</td>\n",
       "      <td>21.928704</td>\n",
       "      <td>19.664815</td>\n",
       "      <td>19.387037</td>\n",
       "      <td>19.678704</td>\n",
       "      <td>21.762037</td>\n",
       "      <td>NaN</td>\n",
       "      <td>24.400926</td>\n",
       "      <td>23.373148</td>\n",
       "    </tr>\n",
       "    <tr>\n",
       "      <th>2019-10-01 03:00:00+00:00</th>\n",
       "      <td>21.150926</td>\n",
       "      <td>20.400926</td>\n",
       "      <td>20.414815</td>\n",
       "      <td>22.414815</td>\n",
       "      <td>24.275926</td>\n",
       "      <td>23.248148</td>\n",
       "      <td>19.012037</td>\n",
       "      <td>20.164815</td>\n",
       "      <td>19.081481</td>\n",
       "      <td>21.067593</td>\n",
       "      <td>19.887037</td>\n",
       "      <td>20.650926</td>\n",
       "      <td>22.067593</td>\n",
       "      <td>19.442593</td>\n",
       "      <td>24.414815</td>\n",
       "      <td>20.275926</td>\n",
       "      <td>21.887037</td>\n",
       "      <td>19.512037</td>\n",
       "      <td>19.331481</td>\n",
       "      <td>19.289815</td>\n",
       "      <td>21.692593</td>\n",
       "      <td>NaN</td>\n",
       "      <td>24.484259</td>\n",
       "      <td>23.428704</td>\n",
       "    </tr>\n",
       "    <tr>\n",
       "      <th>2019-10-01 04:00:00+00:00</th>\n",
       "      <td>21.609259</td>\n",
       "      <td>21.095370</td>\n",
       "      <td>22.206481</td>\n",
       "      <td>22.637037</td>\n",
       "      <td>23.373148</td>\n",
       "      <td>23.456481</td>\n",
       "      <td>20.803704</td>\n",
       "      <td>20.984259</td>\n",
       "      <td>20.900926</td>\n",
       "      <td>21.512037</td>\n",
       "      <td>22.220370</td>\n",
       "      <td>20.928704</td>\n",
       "      <td>22.762037</td>\n",
       "      <td>23.234259</td>\n",
       "      <td>25.664815</td>\n",
       "      <td>21.525926</td>\n",
       "      <td>22.275926</td>\n",
       "      <td>20.734259</td>\n",
       "      <td>20.234259</td>\n",
       "      <td>21.025926</td>\n",
       "      <td>22.387037</td>\n",
       "      <td>NaN</td>\n",
       "      <td>24.442593</td>\n",
       "      <td>23.359259</td>\n",
       "    </tr>\n",
       "  </tbody>\n",
       "</table>\n",
       "</div>"
      ],
      "text/plain": [
       "                              194302     194303  ...     194300     194301\n",
       "timestamp                                        ...                      \n",
       "2019-10-01 00:00:00+00:00  21.775926  20.683333  ...  22.942593  22.979630\n",
       "2019-10-01 01:00:00+00:00  21.525926  20.692593  ...  23.637037  23.137037\n",
       "2019-10-01 02:00:00+00:00  21.289815  20.470370  ...  24.400926  23.373148\n",
       "2019-10-01 03:00:00+00:00  21.150926  20.400926  ...  24.484259  23.428704\n",
       "2019-10-01 04:00:00+00:00  21.609259  21.095370  ...  24.442593  23.359259\n",
       "\n",
       "[5 rows x 24 columns]"
      ]
     },
     "execution_count": 28,
     "metadata": {},
     "output_type": "execute_result"
    }
   ],
   "source": [
    "sensor_data_hourly.head()"
   ]
  },
  {
   "cell_type": "code",
   "execution_count": 29,
   "metadata": {},
   "outputs": [],
   "source": [
    "#sensor_data_hourly.to_csv(\"OfficeZoneTemperature_FCUsensor_data_hourly.csv\", index=True)"
   ]
  },
  {
   "cell_type": "code",
   "execution_count": 30,
   "metadata": {},
   "outputs": [],
   "source": [
    "import matplotlib.pyplot as plt\n",
    "import seaborn as sns\n",
    "\n",
    "# This is for the visual stype, I like \"ggplot\"\n",
    "plt.style.use('ggplot')\n",
    "\n",
    "# This for the figure size\n",
    "plt.rcParams[\"figure.figsize\"] = (20,9)"
   ]
  },
  {
   "cell_type": "markdown",
   "metadata": {},
   "source": [
    "Delete the timestamp column, otherwise Spyder gives an error when plotting. You can skip the next step."
   ]
  },
  {
   "cell_type": "code",
   "execution_count": 31,
   "metadata": {},
   "outputs": [],
   "source": [
    "#sensor_data_NoTime=sensor_data.drop('timestamp',1)"
   ]
  },
  {
   "cell_type": "code",
   "execution_count": 32,
   "metadata": {},
   "outputs": [
    {
     "ename": "TypeError",
     "evalue": "float() argument must be a string or a number, not 'Timestamp'",
     "output_type": "error",
     "traceback": [
      "Traceback \u001b[1;36m(most recent call last)\u001b[0m:\n",
      "  File \u001b[0;32m\"<ipython-input-32-44b9065e6c48>\"\u001b[0m, line \u001b[0;32m1\u001b[0m, in \u001b[0;35m<module>\u001b[0m\n    sns.lineplot(data=sensor_data_hourly, dashes=False)\n",
      "  File \u001b[0;32m\"C:\\Users\\kopanyi.attila\\anaconda3\\lib\\site-packages\\seaborn\\relational.py\"\u001b[0m, line \u001b[0;32m1137\u001b[0m, in \u001b[0;35mlineplot\u001b[0m\n    p.plot(ax, kwargs)\n",
      "  File \u001b[0;32m\"C:\\Users\\kopanyi.attila\\anaconda3\\lib\\site-packages\\seaborn\\relational.py\"\u001b[0m, line \u001b[0;32m834\u001b[0m, in \u001b[0;35mplot\u001b[0m\n    line, = ax.plot(x, y, **kws)\n",
      "  File \u001b[0;32m\"C:\\Users\\kopanyi.attila\\anaconda3\\lib\\site-packages\\matplotlib\\axes\\_axes.py\"\u001b[0m, line \u001b[0;32m1667\u001b[0m, in \u001b[0;35mplot\u001b[0m\n    self.add_line(line)\n",
      "  File \u001b[0;32m\"C:\\Users\\kopanyi.attila\\anaconda3\\lib\\site-packages\\matplotlib\\axes\\_base.py\"\u001b[0m, line \u001b[0;32m1902\u001b[0m, in \u001b[0;35madd_line\u001b[0m\n    self._update_line_limits(line)\n",
      "  File \u001b[0;32m\"C:\\Users\\kopanyi.attila\\anaconda3\\lib\\site-packages\\matplotlib\\axes\\_base.py\"\u001b[0m, line \u001b[0;32m1924\u001b[0m, in \u001b[0;35m_update_line_limits\u001b[0m\n    path = line.get_path()\n",
      "  File \u001b[0;32m\"C:\\Users\\kopanyi.attila\\anaconda3\\lib\\site-packages\\matplotlib\\lines.py\"\u001b[0m, line \u001b[0;32m1027\u001b[0m, in \u001b[0;35mget_path\u001b[0m\n    self.recache()\n",
      "  File \u001b[0;32m\"C:\\Users\\kopanyi.attila\\anaconda3\\lib\\site-packages\\matplotlib\\lines.py\"\u001b[0m, line \u001b[0;32m670\u001b[0m, in \u001b[0;35mrecache\u001b[0m\n    x = _to_unmasked_float_array(xconv).ravel()\n",
      "  File \u001b[0;32m\"C:\\Users\\kopanyi.attila\\anaconda3\\lib\\site-packages\\matplotlib\\cbook\\__init__.py\"\u001b[0m, line \u001b[0;32m1390\u001b[0m, in \u001b[0;35m_to_unmasked_float_array\u001b[0m\n    return np.asarray(x, float)\n",
      "\u001b[1;36m  File \u001b[1;32m\"C:\\Users\\kopanyi.attila\\anaconda3\\lib\\site-packages\\numpy\\core\\_asarray.py\"\u001b[1;36m, line \u001b[1;32m85\u001b[1;36m, in \u001b[1;35masarray\u001b[1;36m\u001b[0m\n\u001b[1;33m    return array(a, dtype, copy=False, order=order)\u001b[0m\n",
      "\u001b[1;31mTypeError\u001b[0m\u001b[1;31m:\u001b[0m float() argument must be a string or a number, not 'Timestamp'\n"
     ]
    },
    {
     "data": {
      "image/png": "[encoded data removed]",
      "text/plain": [
       "<Figure size 1440x648 with 1 Axes>"
      ]
     },
     "metadata": {},
     "output_type": "display_data"
    }
   ],
   "source": [
    "sns.lineplot(data=sensor_data_hourly, dashes=False)"
   ]
  },
  {
   "cell_type": "code",
   "execution_count": 85,
   "metadata": {},
   "outputs": [
    {
     "data": {
      "image/png": "[encoded data removed]",
      "text/plain": [
       "<Figure size 864x576 with 2 Axes>"
      ]
     },
     "metadata": {},
     "output_type": "display_data"
    }
   ],
   "source": [
    "fig1 = sns.heatmap(sensor_data_hourly.T, cmap=\"coolwarm\")\n",
    "#plt.savefig(fname='HeatMap_1.svg', dpi=300, format='svg')"
   ]
  },
  {
   "cell_type": "code",
   "execution_count": 81,
   "metadata": {},
   "outputs": [
    {
     "data": {
      "image/png": "[encoded data removed]",
      "text/plain": [
       "<Figure size 864x576 with 1 Axes>"
      ]
     },
     "metadata": {},
     "output_type": "display_data"
    }
   ],
   "source": [
    "sel_points=194321\n",
    "plt.rcParams[\"figure.figsize\"] = (12,8)\n",
    "fig3 = sns.boxplot(data=sensor_data_hourly[sel_points])\n",
    "#plt.savefig(fname='Pareto_scatter.svg', dpi=300, format='svg')"
   ]
  },
  {
   "cell_type": "code",
   "execution_count": null,
   "metadata": {},
   "outputs": [],
   "source": []
  }
 ],
 "metadata": {
  "kernelspec": {
   "display_name": "Python 3 (Spyder)",
   "language": "python3",
   "name": "python3"
  },
  "language_info": {
   "codemirror_mode": {
    "name": "ipython",
    "version": 3
   },
   "file_extension": ".py",
   "mimetype": "text/x-python",
   "name": "python",
   "nbconvert_exporter": "python",
   "pygments_lexer": "ipython3",
   "version": "3.7.6"
  }
 },
 "nbformat": 4,
 "nbformat_minor": 4
}
